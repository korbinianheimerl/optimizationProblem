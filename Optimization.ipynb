{
 "cells": [
  {
   "cell_type": "code",
   "execution_count": 6,
   "metadata": {},
   "outputs": [],
   "source": [
    "import random\n"
   ]
  },
  {
   "cell_type": "code",
   "execution_count": 18,
   "metadata": {},
   "outputs": [
    {
     "name": "stdout",
     "output_type": "stream",
     "text": [
      "Pairs [('a', 19, 92), ('b', 60, 12), ('c', 77, 91), ('d', 89, 27), ('e', 1, 12), ('f', 61, 62), ('g', 60, 78), ('h', 67, 71), ('i', 10, 9), ('j', 3, 81)]\n",
      "Pairs sorted [('d', 89, 27), ('c', 77, 91), ('h', 67, 71), ('f', 61, 62), ('b', 60, 12), ('g', 60, 78), ('a', 19, 92), ('i', 10, 9), ('j', 3, 81), ('e', 1, 12)]\n",
      "Greedy approximation (633.0, {'d': 7.0, 'c': 0.0, 'h': 0.0, 'f': 0.0, 'b': 0.0, 'g': 0.0, 'a': 0.0, 'i': 1.0, 'j': 0.0, 'e': 0.0}, 2)\n",
      "Pairs sorted distribution [('b', 60, 12), ('d', 89, 27), ('i', 10, 9), ('f', 61, 62), ('h', 67, 71), ('c', 77, 91), ('g', 60, 78), ('a', 19, 92), ('e', 1, 12), ('j', 3, 81)]\n",
      "Greedy approximation distribution (960.0, {'b': 16.0, 'd': 0.0, 'i': 0.0, 'f': 0.0, 'h': 0.0, 'c': 0.0, 'g': 0.0, 'a': 0.0, 'e': 0.0, 'j': 0.0}, 8)\n",
      "Optimum would be: 960\n"
     ]
    }
   ],
   "source": [
    "names = ['a','b','c','d','e','f','g','h','i','j']\n",
    "fees = [0,1,2,3,4,5,6,7,8,9]\n",
    "weights = [0,1,2,3,4,5,6,7,8,9]\n",
    "pairs = []\n",
    "max_weight = 200\n",
    "\n",
    "def give_random_int():\n",
    "    return random.randint(1,100)\n",
    "\n",
    "for fee in fees:\n",
    "    fees[fee]= give_random_int()    \n",
    "for weight in weights:\n",
    "    weights[weight]= give_random_int()\n",
    "\n",
    "\n",
    "pairs = list(zip(names, fees, weights))\n",
    "print(\"Pairs\", pairs)\n",
    "\n",
    "#greedyAproximation\n",
    "\n",
    "def greedy_approximation(pairs, max_weight):\n",
    "    #sort list so we dont have to find max everytime \n",
    "    pairs_sorted = sorted(pairs, key = lambda item:item[1], reverse=True)\n",
    "    print(\"Pairs sorted\", pairs_sorted)\n",
    "    #initiate variables\n",
    "    chosen_items = {}\n",
    "    profit = 0\n",
    "    for pair in range(len(pairs_sorted)):\n",
    "        #unpack tuples\n",
    "        name, fee, weight = pairs_sorted[pair]\n",
    "        #how often does item with most fee fit in max weight\n",
    "        num_of_item = (max_weight-max_weight%weight)/weight\n",
    "        #what item how often\n",
    "        chosen_items[name] = num_of_item\n",
    "        #update capacity\n",
    "        max_weight = max_weight % weight\n",
    "        #update profit\n",
    "        profit += num_of_item*fee\n",
    "    return round(profit,2), chosen_items, max_weight\n",
    "\n",
    "def greedy_approximation_distribution(pairs, max_weight):\n",
    "    #sort list so we dont have to find max everytime \n",
    "    pairs_sorted = sorted(pairs, key = lambda item:item[1]/item[2], reverse=True)\n",
    "    print(\"Pairs sorted distribution\", pairs_sorted)\n",
    "    #initiate variables\n",
    "    chosen_items = {}\n",
    "    profit = 0\n",
    "    for pair in range(len(pairs_sorted)):\n",
    "        #unpack tuples\n",
    "        name, fee, weight = pairs_sorted[pair]\n",
    "        #how often does item with most fee fit in max weight\n",
    "        num_of_item = (max_weight-max_weight%weight)/weight\n",
    "        #what item how often\n",
    "        chosen_items[name] = num_of_item\n",
    "        #update capacity\n",
    "        max_weight = max_weight % weight\n",
    "        #update profit\n",
    "        profit += num_of_item*fee\n",
    "    return round(profit,2), chosen_items, max_weight\n",
    "\n",
    "#does not give optimal choice of items but gives maximum filled capacity to check how good approximations are\n",
    "def dynamic_optimization(pairs, max_weight):\n",
    "    solution_container = [0 for i in range(max_weight+1)]\n",
    "    #solve problem for each max_weight starting from bottom up\n",
    "    for i in range(max_weight+1):\n",
    "        #problem solving \n",
    "        for j in range(len(pairs)):\n",
    "            _, fee, weight = pairs[j]\n",
    "            #is current objects weight smaller than current capacity\n",
    "            if (weight < i):\n",
    "                # max of current container vs. container if item is put in\n",
    "                solution_container[i] = max(solution_container[i], solution_container[i-weight]+fee)\n",
    "    return round(solution_container[max_weight])\n",
    "\n",
    "\n",
    "print(\"Greedy approximation\", greedy_approximation(pairs, max_weight))\n",
    "print(\"Greedy approximation distribution\", greedy_approximation_distribution(pairs, max_weight))\n",
    "print(\"Optimum would be:\", dynamic_optimization(pairs, max_weight))"
   ]
  },
  {
   "cell_type": "code",
   "execution_count": null,
   "metadata": {},
   "outputs": [],
   "source": []
  }
 ],
 "metadata": {
  "kernelspec": {
   "display_name": "Python 3.10.8 64-bit (microsoft store)",
   "language": "python",
   "name": "python3"
  },
  "language_info": {
   "codemirror_mode": {
    "name": "ipython",
    "version": 3
   },
   "file_extension": ".py",
   "mimetype": "text/x-python",
   "name": "python",
   "nbconvert_exporter": "python",
   "pygments_lexer": "ipython3",
   "version": "3.10.8"
  },
  "orig_nbformat": 4,
  "vscode": {
   "interpreter": {
    "hash": "82d5c7181fc9a6a5f4e8b64c6ae808a07bb6ca82beeeb65d60eca0f87f94f4c9"
   }
  }
 },
 "nbformat": 4,
 "nbformat_minor": 2
}
